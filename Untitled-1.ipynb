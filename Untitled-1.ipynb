{
 "cells": [
  {
   "cell_type": "code",
   "execution_count": 5,
   "metadata": {},
   "outputs": [
    {
     "name": "stdout",
     "output_type": "stream",
     "text": [
      "107.0\n",
      "None\n"
     ]
    }
   ],
   "source": [
    "def total_cost(price: int, tax_rate: float) -> float:\n",
    "   print(price + (price * tax_rate))\n",
    "\n",
    "print(total_cost(price=100, tax_rate=0.07))"
   ]
  },
  {
   "cell_type": "code",
   "execution_count": 2,
   "metadata": {},
   "outputs": [
    {
     "name": "stdout",
     "output_type": "stream",
     "text": [
      "107.0\n"
     ]
    }
   ],
   "source": [
    "def total_cost(price: int, tax_rate: float) -> float:\n",
    "   return price + (price * tax_rate)\n",
    "\n",
    "print(total_cost(price=100, tax_rate=0.07))"
   ]
  },
  {
   "cell_type": "code",
   "execution_count": 6,
   "metadata": {},
   "outputs": [
    {
     "ename": "TypeError",
     "evalue": "unsupported operand type(s) for *: 'NoneType' and 'int'",
     "output_type": "error",
     "traceback": [
      "\u001b[1;31m---------------------------------------------------------------------------\u001b[0m",
      "\u001b[1;31mTypeError\u001b[0m                                 Traceback (most recent call last)",
      "Cell \u001b[1;32mIn[6], line 7\u001b[0m\n\u001b[0;32m      4\u001b[0m \u001b[38;5;28;01mdef\u001b[39;00m\u001b[38;5;250m \u001b[39m\u001b[38;5;21mtotal_fuel_cost\u001b[39m(distance: \u001b[38;5;28mint\u001b[39m, mpg: \u001b[38;5;28mint\u001b[39m, price_per_gallon: \u001b[38;5;28mint\u001b[39m) \u001b[38;5;241m-\u001b[39m\u001b[38;5;241m>\u001b[39m \u001b[38;5;28mfloat\u001b[39m:\n\u001b[0;32m      5\u001b[0m     \u001b[38;5;28;01mreturn\u001b[39;00m fuel_needed(distance\u001b[38;5;241m=\u001b[39mdistance, mpg\u001b[38;5;241m=\u001b[39mmpg) \u001b[38;5;241m*\u001b[39m price_per_gallon\n\u001b[1;32m----> 7\u001b[0m \u001b[38;5;28mprint\u001b[39m(\u001b[43mtotal_fuel_cost\u001b[49m\u001b[43m(\u001b[49m\u001b[43mdistance\u001b[49m\u001b[38;5;241;43m=\u001b[39;49m\u001b[38;5;241;43m300\u001b[39;49m\u001b[43m,\u001b[49m\u001b[43m \u001b[49m\u001b[43mmpg\u001b[49m\u001b[38;5;241;43m=\u001b[39;49m\u001b[38;5;241;43m25\u001b[39;49m\u001b[43m,\u001b[49m\u001b[43m \u001b[49m\u001b[43mprice_per_gallon\u001b[49m\u001b[38;5;241;43m=\u001b[39;49m\u001b[38;5;241;43m4\u001b[39;49m\u001b[43m)\u001b[49m)\n",
      "Cell \u001b[1;32mIn[6], line 5\u001b[0m, in \u001b[0;36mtotal_fuel_cost\u001b[1;34m(distance, mpg, price_per_gallon)\u001b[0m\n\u001b[0;32m      4\u001b[0m \u001b[38;5;28;01mdef\u001b[39;00m\u001b[38;5;250m \u001b[39m\u001b[38;5;21mtotal_fuel_cost\u001b[39m(distance: \u001b[38;5;28mint\u001b[39m, mpg: \u001b[38;5;28mint\u001b[39m, price_per_gallon: \u001b[38;5;28mint\u001b[39m) \u001b[38;5;241m-\u001b[39m\u001b[38;5;241m>\u001b[39m \u001b[38;5;28mfloat\u001b[39m:\n\u001b[1;32m----> 5\u001b[0m     \u001b[38;5;28;01mreturn\u001b[39;00m \u001b[43mfuel_needed\u001b[49m\u001b[43m(\u001b[49m\u001b[43mdistance\u001b[49m\u001b[38;5;241;43m=\u001b[39;49m\u001b[43mdistance\u001b[49m\u001b[43m,\u001b[49m\u001b[43m \u001b[49m\u001b[43mmpg\u001b[49m\u001b[38;5;241;43m=\u001b[39;49m\u001b[43mmpg\u001b[49m\u001b[43m)\u001b[49m\u001b[43m \u001b[49m\u001b[38;5;241;43m*\u001b[39;49m\u001b[43m \u001b[49m\u001b[43mprice_per_gallon\u001b[49m\n",
      "\u001b[1;31mTypeError\u001b[0m: unsupported operand type(s) for *: 'NoneType' and 'int'"
     ]
    }
   ],
   "source": [
    "def fuel_needed(distance: int, mpg: int) -> float:\n",
    "    distance / mpg\n",
    "\n",
    "def total_fuel_cost(distance: int, mpg: int, price_per_gallon: int) -> float:\n",
    "    return fuel_needed(distance=distance, mpg=mpg) * price_per_gallon\n",
    "\n",
    "print(total_fuel_cost(distance=300, mpg=25, price_per_gallon=4))"
   ]
  },
  {
   "cell_type": "code",
   "execution_count": 7,
   "metadata": {},
   "outputs": [
    {
     "name": "stdout",
     "output_type": "stream",
     "text": [
      "48.0\n"
     ]
    }
   ],
   "source": [
    "def fuel_needed(distance: int, mpg: int) -> float:\n",
    "    return distance / mpg\n",
    "\n",
    "def total_fuel_cost(distance: int, mpg: int, price_per_gallon: int) -> float:\n",
    "    return fuel_needed(distance=distance, mpg=mpg) * price_per_gallon\n",
    "\n",
    "print(total_fuel_cost(distance=300, mpg=25, price_per_gallon=4))"
   ]
  }
 ],
 "metadata": {
  "kernelspec": {
   "display_name": "Python 3",
   "language": "python",
   "name": "python3"
  },
  "language_info": {
   "codemirror_mode": {
    "name": "ipython",
    "version": 3
   },
   "file_extension": ".py",
   "mimetype": "text/x-python",
   "name": "python",
   "nbconvert_exporter": "python",
   "pygments_lexer": "ipython3",
   "version": "3.undefined.undefined"
  }
 },
 "nbformat": 4,
 "nbformat_minor": 2
}
